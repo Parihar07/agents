{
 "cells": [
  {
   "cell_type": "markdown",
   "metadata": {},
   "source": [
    "# Welcome to the start of your adventure in Agentic AI"
   ]
  },
  {
   "cell_type": "markdown",
   "metadata": {},
   "source": [
    "<table style=\"margin: 0; text-align: left; width:100%\">\n",
    "    <tr>\n",
    "        <td style=\"width: 150px; height: 150px; vertical-align: middle;\">\n",
    "            <img src=\"../assets/stop.png\" width=\"150\" height=\"150\" style=\"display: block;\" />\n",
    "        </td>\n",
    "        <td>\n",
    "            <h2 style=\"color:#ff7800;\">Are you ready for action??</h2>\n",
    "            <span style=\"color:#ff7800;\">Have you completed all the setup steps in the <a href=\"../setup/\">setup</a> folder?<br/>\n",
    "            Have you read the <a href=\"../README.md\">README</a>? Many common questions are answered here!<br/>\n",
    "            Have you checked out the guides in the <a href=\"../guides/01_intro.ipynb\">guides</a> folder?<br/>\n",
    "            Well in that case, you're ready!!\n",
    "            </span>\n",
    "        </td>\n",
    "    </tr>\n",
    "</table>"
   ]
  },
  {
   "cell_type": "markdown",
   "metadata": {},
   "source": [
    "<table style=\"margin: 0; text-align: left; width:100%\">\n",
    "    <tr>\n",
    "        <td style=\"width: 150px; height: 150px; vertical-align: middle;\">\n",
    "            <img src=\"../assets/tools.png\" width=\"150\" height=\"150\" style=\"display: block;\" />\n",
    "        </td>\n",
    "        <td>\n",
    "            <h2 style=\"color:#00bfff;\">This code is a live resource - keep an eye out for my updates</h2>\n",
    "            <span style=\"color:#00bfff;\">I push updates regularly. As people ask questions or have problems, I add more examples and improve explanations. As a result, the code below might not be identical to the videos, as I've added more steps and better comments. Consider this like an interactive book that accompanies the lectures.<br/><br/>\n",
    "            I try to send emails regularly with important updates related to the course. You can find this in the 'Announcements' section of Udemy in the left sidebar. You can also choose to receive my emails via your Notification Settings in Udemy. I'm respectful of your inbox and always try to add value with my emails!\n",
    "            </span>\n",
    "        </td>\n",
    "    </tr>\n",
    "</table>"
   ]
  },
  {
   "cell_type": "markdown",
   "metadata": {},
   "source": [
    "### And please do remember to contact me if I can help\n",
    "\n",
    "And I love to connect: https://www.linkedin.com/in/eddonner/\n",
    "\n",
    "\n",
    "### New to Notebooks like this one? Head over to the guides folder!\n",
    "\n",
    "Just to check you've already added the Python and Jupyter extensions to Cursor, if not already installed:\n",
    "- Open extensions (View >> extensions)\n",
    "- Search for python, and when the results show, click on the ms-python one, and Install it if not already installed\n",
    "- Search for jupyter, and when the results show, click on the Microsoft one, and Install it if not already installed  \n",
    "Then View >> Explorer to bring back the File Explorer.\n",
    "\n",
    "And then:\n",
    "1. Click where it says \"Select Kernel\" near the top right, and select the option called `.venv (Python 3.12.9)` or similar, which should be the first choice or the most prominent choice. You may need to choose \"Python Environments\" first.\n",
    "2. Click in each \"cell\" below, starting with the cell immediately below this text, and press Shift+Enter to run\n",
    "3. Enjoy!\n",
    "\n",
    "After you click \"Select Kernel\", if there is no option like `.venv (Python 3.12.9)` then please do the following:  \n",
    "1. On Mac: From the Cursor menu, choose Settings >> VS Code Settings (NOTE: be sure to select `VSCode Settings` not `Cursor Settings`);  \n",
    "On Windows PC: From the File menu, choose Preferences >> VS Code Settings(NOTE: be sure to select `VSCode Settings` not `Cursor Settings`)  \n",
    "2. In the Settings search bar, type \"venv\"  \n",
    "3. In the field \"Path to folder with a list of Virtual Environments\" put the path to the project root, like C:\\Users\\username\\projects\\agents (on a Windows PC) or /Users/username/projects/agents (on Mac or Linux).  \n",
    "And then try again.\n",
    "\n",
    "Having problems with missing Python versions in that list? Have you ever used Anaconda before? It might be interferring. Quit Cursor, bring up a new command line, and make sure that your Anaconda environment is deactivated:    \n",
    "`conda deactivate`  \n",
    "And if you still have any problems with conda and python versions, it's possible that you will need to run this too:  \n",
    "`conda config --set auto_activate_base false`  \n",
    "and then from within the Agents directory, you should be able to run `uv python list` and see the Python 3.12 version."
   ]
  },
  {
   "cell_type": "code",
   "execution_count": 1,
   "metadata": {},
   "outputs": [],
   "source": [
    "# First let's do an import. If you get an Import Error, double check that your Kernel is correct..\n",
    "\n",
    "from dotenv import load_dotenv\n"
   ]
  },
  {
   "cell_type": "code",
   "execution_count": 2,
   "metadata": {},
   "outputs": [
    {
     "data": {
      "text/plain": [
       "True"
      ]
     },
     "execution_count": 2,
     "metadata": {},
     "output_type": "execute_result"
    }
   ],
   "source": [
    "# Next it's time to load the API keys into environment variables\n",
    "# If this returns false, see the next cell!\n",
    "\n",
    "load_dotenv(override=True)"
   ]
  },
  {
   "cell_type": "markdown",
   "metadata": {},
   "source": [
    "### Wait, did that just output `False`??\n",
    "\n",
    "If so, the most common reason is that you didn't save your `.env` file after adding the key! Be sure to have saved.\n",
    "\n",
    "Also, make sure the `.env` file is named precisely `.env` and is in the project root directory (`agents`)\n",
    "\n",
    "By the way, your `.env` file should have a stop symbol next to it in Cursor on the left, and that's actually a good thing: that's Cursor saying to you, \"hey, I realize this is a file filled with secret information, and I'm not going to send it to an external AI to suggest changes, because your keys should not be shown to anyone else.\""
   ]
  },
  {
   "cell_type": "markdown",
   "metadata": {},
   "source": [
    "<table style=\"margin: 0; text-align: left; width:100%\">\n",
    "    <tr>\n",
    "        <td style=\"width: 150px; height: 150px; vertical-align: middle;\">\n",
    "            <img src=\"../assets/stop.png\" width=\"150\" height=\"150\" style=\"display: block;\" />\n",
    "        </td>\n",
    "        <td>\n",
    "            <h2 style=\"color:#ff7800;\">Final reminders</h2>\n",
    "            <span style=\"color:#ff7800;\">1. If you're not confident about Environment Variables or Web Endpoints / APIs, please read Topics 3 and 5 in this <a href=\"../guides/04_technical_foundations.ipynb\">technical foundations guide</a>.<br/>\n",
    "            2. If you want to use AIs other than OpenAI, like Gemini, DeepSeek or Ollama (free), please see the first section in this <a href=\"../guides/09_ai_apis_and_ollama.ipynb\">AI APIs guide</a>.<br/>\n",
    "            3. If you ever get a Name Error in Python, you can always fix it immediately; see the last section of this <a href=\"../guides/06_python_foundations.ipynb\">Python Foundations guide</a> and follow both tutorials and exercises.<br/>\n",
    "            </span>\n",
    "        </td>\n",
    "    </tr>\n",
    "</table>"
   ]
  },
  {
   "cell_type": "code",
   "execution_count": 3,
   "metadata": {},
   "outputs": [
    {
     "name": "stdout",
     "output_type": "stream",
     "text": [
      "Gemini API Key exists and begins AIzaSyDW\n"
     ]
    }
   ],
   "source": [
    "# Check the key - if you're not using OpenAI, check whichever key you're using! Ollama doesn't need a key.\n",
    "\n",
    "import os\n",
    "gemini_api_key = os.getenv('GEMINI_API_KEY')\n",
    "\n",
    "if gemini_api_key:\n",
    "    print(f\"Gemini API Key exists and begins {gemini_api_key[:8]}\")\n",
    "else:\n",
    "    print(\"Gemini API Key not set - please head to the troubleshooting guide in the setup folder\")\n",
    "\n"
   ]
  },
  {
   "cell_type": "code",
   "execution_count": null,
   "metadata": {},
   "outputs": [],
   "source": [
    "# And now - the all important import statement\n",
    "# If you get an import error - head over to troubleshooting in the Setup folder\n",
    "\n",
    "%pip install google-generativeai"
   ]
  },
  {
   "cell_type": "code",
   "execution_count": 4,
   "metadata": {},
   "outputs": [],
   "source": [
    "\n",
    "from google import generativeai as genai"
   ]
  },
  {
   "cell_type": "code",
   "execution_count": 5,
   "metadata": {},
   "outputs": [],
   "source": [
    "# And now we'll create an instance of the OpenAI class\n",
    "# If you're not sure what it means to create an instance of a class - head over to the guides folder (guide 6)!\n",
    "# If you get a NameError - head over to the guides folder (guide 6)to learn about NameErrors - always instantly fixable\n",
    "# If you're not using OpenAI, you just need to slightly modify this - precise instructions are in the AI APIs guide (guide 9)\n",
    "\n",
    "# openai = OpenAI()\n",
    "\n",
    "genai.configure(api_key=gemini_api_key)\n"
   ]
  },
  {
   "cell_type": "code",
   "execution_count": 6,
   "metadata": {},
   "outputs": [],
   "source": [
    "# Create a list of messages in the familiar OpenAI format\n",
    "\n",
    "messages = [{\"role\": \"user\", \"content\": \"What is 2+2?\"}]"
   ]
  },
  {
   "cell_type": "code",
   "execution_count": 7,
   "metadata": {},
   "outputs": [
    {
     "name": "stdout",
     "output_type": "stream",
     "text": [
      "Gemini API Key: AIzaSyDW ...\n",
      "2 + 2 = 4\n",
      "\n"
     ]
    }
   ],
   "source": [
    "#commented out the OpenAI API call since we're using Gemini API\n",
    "# If you're using OpenAI, you can uncomment the following lines to use the OpenAI API\n",
    "# import openai \n",
    "\n",
    "# response = openai.chat.completions.create(\n",
    "#     model=\"gpt-4.1-nano\",\n",
    "#     messages=messages\n",
    "# )\n",
    "# Double-check which API key is being used\n",
    "print(\"Gemini API Key:\", gemini_api_key[:8], \"...\")\n",
    "\n",
    "model = genai.GenerativeModel(\"gemini-1.5-flash\")\n",
    "# Extract the user message content for Gemini API\n",
    "user_message = messages[0][\"content\"]\n",
    "response = model.generate_content(user_message)\n",
    "\n",
    "print(response.text)\n"
   ]
  },
  {
   "cell_type": "code",
   "execution_count": 8,
   "metadata": {},
   "outputs": [],
   "source": [
    "# And now - let's ask for a question:\n",
    "\n",
    "question = \"Please propose a hard, challenging question to assess someone's IQ. Respond only with the question.\"\n",
    "messages = [{\"role\": \"user\", \"content\": question}]\n"
   ]
  },
  {
   "cell_type": "code",
   "execution_count": 9,
   "metadata": {},
   "outputs": [
    {
     "name": "stdout",
     "output_type": "stream",
     "text": [
      "Gemini API Key: AIzaSyDW ...\n",
      "A farmer has a fox, a chicken, and a sack of grain. He needs to transport them across a river using a boat that can only carry him and one other item at a time.  If he leaves the fox and chicken alone, the fox will eat the chicken. If he leaves the chicken and grain alone, the chicken will eat the grain. How does the farmer transport all three safely across the river?\n",
      "\n"
     ]
    }
   ],
   "source": [
    "#removed the OpenAI API call since we're using Gemini API\n",
    "# If you're using OpenAI, you can uncomment the following lines to use the OpenAI API\n",
    "# import openai \n",
    "# response = openai.chat.completions.create(\n",
    "#     model=\"gpt-4.1-mini\",\n",
    "#     messages=messages\n",
    "# )\n",
    "response = model.generate_content(question)\n",
    "# Double-check which API key is being used\n",
    "print(\"Gemini API Key:\", gemini_api_key[:8], \"...\") \n",
    "\n",
    "# Get the generated question from the Gemini response\n",
    "generated_question = response.text\n",
    "\n",
    "print(generated_question)\n"
   ]
  },
  {
   "cell_type": "code",
   "execution_count": 10,
   "metadata": {},
   "outputs": [],
   "source": [
    "# form a new messages list\n",
    "messages = [{\"role\": \"user\", \"content\": question}]\n"
   ]
  },
  {
   "cell_type": "code",
   "execution_count": 11,
   "metadata": {},
   "outputs": [
    {
     "name": "stdout",
     "output_type": "stream",
     "text": [
      "A farmer has a fox, a chicken, and a sack of grain. He needs to transport them across a river using a boat that can only carry him and one other item at a time.  If left unsupervised, the fox will eat the chicken, and the chicken will eat the grain. How does the farmer get all three across the river safely?\n",
      "\n"
     ]
    }
   ],
   "source": [
    "# Ask it again\n",
    "\n",
    "# response = openai.chat.completions.create(\n",
    "#     model=\"gpt-4.1-mini\",\n",
    "#     messages=messages\n",
    "# )\n",
    "response = model.generate_content(question)\n",
    "answer = response.text\n",
    "print(answer)\n"
   ]
  },
  {
   "cell_type": "code",
   "execution_count": 12,
   "metadata": {},
   "outputs": [
    {
     "data": {
      "text/markdown": [
       "A farmer has a fox, a chicken, and a sack of grain. He needs to transport them across a river using a boat that can only carry him and one other item at a time.  If left unsupervised, the fox will eat the chicken, and the chicken will eat the grain. How does the farmer get all three across the river safely?\n"
      ],
      "text/plain": [
       "<IPython.core.display.Markdown object>"
      ]
     },
     "metadata": {},
     "output_type": "display_data"
    }
   ],
   "source": [
    "from IPython.display import Markdown, display\n",
    "\n",
    "display(Markdown(answer))\n",
    "\n"
   ]
  },
  {
   "cell_type": "markdown",
   "metadata": {},
   "source": [
    "# Congratulations!\n",
    "\n",
    "That was a small, simple step in the direction of Agentic AI, with your new environment!\n",
    "\n",
    "Next time things get more interesting..."
   ]
  },
  {
   "cell_type": "markdown",
   "metadata": {},
   "source": [
    "<table style=\"margin: 0; text-align: left; width:100%\">\n",
    "    <tr>\n",
    "        <td style=\"width: 150px; height: 150px; vertical-align: middle;\">\n",
    "            <img src=\"../assets/exercise.png\" width=\"150\" height=\"150\" style=\"display: block;\" />\n",
    "        </td>\n",
    "        <td>\n",
    "            <h2 style=\"color:#ff7800;\">Exercise</h2>\n",
    "            <span style=\"color:#ff7800;\">Now try this commercial application:<br/>\n",
    "            First ask the LLM to pick a business area that might be worth exploring for an Agentic AI opportunity.<br/>\n",
    "            Then ask the LLM to present a pain-point in that industry - something challenging that might be ripe for an Agentic solution.<br/>\n",
    "            Finally have 3 third LLM call propose the Agentic AI solution. <br/>\n",
    "            We will cover this at up-coming labs, so don't worry if you're unsure.. just give it a try!\n",
    "            </span>\n",
    "        </td>\n",
    "    </tr>\n",
    "</table>"
   ]
  },
  {
   "cell_type": "code",
   "execution_count": null,
   "metadata": {},
   "outputs": [],
   "source": [
    "# First create the messages:\n",
    "\n",
    "messages = [{\"role\": \"user\", \"content\": \"Something here\"}]\n",
    "\n",
    "# Then make the first call:\n",
    "\n",
    "response =\n",
    "\n",
    "# Then read the business idea:\n",
    "\n",
    "business_idea = response.\n",
    "\n",
    "# And repeat! In the next message, include the business idea within the message"
   ]
  },
  {
   "cell_type": "code",
   "execution_count": 42,
   "metadata": {},
   "outputs": [
    {
     "name": "stdout",
     "output_type": "stream",
     "text": [
      "Agentic AI, AI that can autonomously act and achieve goals within a defined scope, has significant potential to revolutionize system management.  Here's how it could help and potential business models:\n",
      "\n",
      "**How Agentic AI Could Help in System Management:**\n",
      "\n",
      "* **Proactive Anomaly Detection and Remediation:**  Instead of passively monitoring logs for alerts, an agentic AI could proactively learn the \"normal\" behavior of a system and identify deviations early on.  It could then autonomously take corrective actions, like restarting a failing service or scaling resources up/down, minimizing downtime and human intervention.\n",
      "\n",
      "* **Automated Incident Response:** When an incident does occur, the AI could analyze the situation, diagnose the root cause (potentially faster and more accurately than a human), and execute a pre-defined or learned remediation plan.  This significantly reduces Mean Time To Resolution (MTTR).\n",
      "\n",
      "* **Predictive Maintenance:** By analyzing system logs, performance metrics, and hardware sensor data, the AI could predict potential failures before they occur, allowing for scheduled maintenance to prevent outages.\n",
      "\n",
      "* **Automated Resource Optimization:**  Agentic AI could dynamically allocate resources (CPU, memory, network bandwidth) based on real-time demand and predicted future needs, ensuring optimal performance and cost efficiency.  This includes things like autoscaling in cloud environments and power management in data centers.\n",
      "\n",
      "* **Security Automation:** The AI could identify and respond to security threats in real-time, patching vulnerabilities, blocking malicious traffic, and isolating infected systems.  It can also learn evolving threat patterns and adapt its defenses accordingly.\n",
      "\n",
      "* **Configuration Management and Deployment:** Agentic AI could automate the deployment and configuration of new systems and software, ensuring consistency and reducing human error.  It could also manage updates and rollbacks.\n",
      "\n",
      "* **Self-Healing Systems:** The ultimate goal is to create self-healing systems that can automatically recover from failures and disruptions without human intervention.  Agentic AI is crucial to achieving this.\n",
      "\n",
      "\n",
      "**Business Models for Agentic AI in System Management:**\n",
      "\n",
      "* **Software as a Service (SaaS):**  Offering a cloud-based platform that provides agentic AI-powered system management capabilities to customers. This could be priced on a per-system, per-user, or tiered subscription basis, depending on the features and level of support.\n",
      "\n",
      "* **Platform as a Service (PaaS):**  Providing a platform where users can build and deploy their own agentic AI agents for specific system management tasks. This would likely involve charging for platform usage and potentially offering premium features or support.\n",
      "\n",
      "* **Professional Services:**  Offering consulting services to help organizations implement and customize agentic AI solutions for their specific needs.  This could involve designing, deploying, and managing AI agents, as well as providing training and support.\n",
      "\n",
      "* **Hybrid Model:**  Combining SaaS and professional services to offer a comprehensive solution.\n",
      "\n",
      "* **Licensing:** Licensing the agentic AI technology to other software vendors who can integrate it into their existing system management tools.\n",
      "\n",
      "* **Value-Based Pricing:**  Charging based on the value delivered, such as reduced downtime, improved efficiency, or cost savings. This requires careful measurement and reporting of the AI's impact.\n",
      "\n",
      "\n",
      "**Challenges:**\n",
      "\n",
      "* **Explainability and Trust:**  It's crucial that the AI's actions are transparent and understandable, particularly in sensitive environments.  Building trust in an autonomous system is paramount.\n",
      "\n",
      "* **Safety and Security:**  Ensuring that the AI does not inadvertently cause damage or create security vulnerabilities is critical.  Robust testing and fail-safes are essential.\n",
      "\n",
      "* **Data Requirements:**  Agentic AI needs vast amounts of data to learn effectively.  Gathering, cleaning, and securing this data can be a significant challenge.\n",
      "\n",
      "* **Regulatory Compliance:**  Compliance with relevant data privacy and security regulations is crucial, especially in industries like healthcare and finance.\n",
      "\n",
      "\n",
      "Despite these challenges, the potential benefits of agentic AI in system management are substantial.  As the technology matures and addresses these challenges, we can expect to see widespread adoption across various industries.\n",
      "\n"
     ]
    },
    {
     "data": {
      "text/markdown": [
       "Agentic AI, AI that can autonomously act and achieve goals within a defined scope, has significant potential to revolutionize system management.  Here's how it could help and potential business models:\n",
       "\n",
       "**How Agentic AI Could Help in System Management:**\n",
       "\n",
       "* **Proactive Anomaly Detection and Remediation:**  Instead of passively monitoring logs for alerts, an agentic AI could proactively learn the \"normal\" behavior of a system and identify deviations early on.  It could then autonomously take corrective actions, like restarting a failing service or scaling resources up/down, minimizing downtime and human intervention.\n",
       "\n",
       "* **Automated Incident Response:** When an incident does occur, the AI could analyze the situation, diagnose the root cause (potentially faster and more accurately than a human), and execute a pre-defined or learned remediation plan.  This significantly reduces Mean Time To Resolution (MTTR).\n",
       "\n",
       "* **Predictive Maintenance:** By analyzing system logs, performance metrics, and hardware sensor data, the AI could predict potential failures before they occur, allowing for scheduled maintenance to prevent outages.\n",
       "\n",
       "* **Automated Resource Optimization:**  Agentic AI could dynamically allocate resources (CPU, memory, network bandwidth) based on real-time demand and predicted future needs, ensuring optimal performance and cost efficiency.  This includes things like autoscaling in cloud environments and power management in data centers.\n",
       "\n",
       "* **Security Automation:** The AI could identify and respond to security threats in real-time, patching vulnerabilities, blocking malicious traffic, and isolating infected systems.  It can also learn evolving threat patterns and adapt its defenses accordingly.\n",
       "\n",
       "* **Configuration Management and Deployment:** Agentic AI could automate the deployment and configuration of new systems and software, ensuring consistency and reducing human error.  It could also manage updates and rollbacks.\n",
       "\n",
       "* **Self-Healing Systems:** The ultimate goal is to create self-healing systems that can automatically recover from failures and disruptions without human intervention.  Agentic AI is crucial to achieving this.\n",
       "\n",
       "\n",
       "**Business Models for Agentic AI in System Management:**\n",
       "\n",
       "* **Software as a Service (SaaS):**  Offering a cloud-based platform that provides agentic AI-powered system management capabilities to customers. This could be priced on a per-system, per-user, or tiered subscription basis, depending on the features and level of support.\n",
       "\n",
       "* **Platform as a Service (PaaS):**  Providing a platform where users can build and deploy their own agentic AI agents for specific system management tasks. This would likely involve charging for platform usage and potentially offering premium features or support.\n",
       "\n",
       "* **Professional Services:**  Offering consulting services to help organizations implement and customize agentic AI solutions for their specific needs.  This could involve designing, deploying, and managing AI agents, as well as providing training and support.\n",
       "\n",
       "* **Hybrid Model:**  Combining SaaS and professional services to offer a comprehensive solution.\n",
       "\n",
       "* **Licensing:** Licensing the agentic AI technology to other software vendors who can integrate it into their existing system management tools.\n",
       "\n",
       "* **Value-Based Pricing:**  Charging based on the value delivered, such as reduced downtime, improved efficiency, or cost savings. This requires careful measurement and reporting of the AI's impact.\n",
       "\n",
       "\n",
       "**Challenges:**\n",
       "\n",
       "* **Explainability and Trust:**  It's crucial that the AI's actions are transparent and understandable, particularly in sensitive environments.  Building trust in an autonomous system is paramount.\n",
       "\n",
       "* **Safety and Security:**  Ensuring that the AI does not inadvertently cause damage or create security vulnerabilities is critical.  Robust testing and fail-safes are essential.\n",
       "\n",
       "* **Data Requirements:**  Agentic AI needs vast amounts of data to learn effectively.  Gathering, cleaning, and securing this data can be a significant challenge.\n",
       "\n",
       "* **Regulatory Compliance:**  Compliance with relevant data privacy and security regulations is crucial, especially in industries like healthcare and finance.\n",
       "\n",
       "\n",
       "Despite these challenges, the potential benefits of agentic AI in system management are substantial.  As the technology matures and addresses these challenges, we can expect to see widespread adoption across various industries.\n"
      ],
      "text/plain": [
       "<IPython.core.display.Markdown object>"
      ]
     },
     "metadata": {},
     "output_type": "display_data"
    }
   ],
   "source": [
    "question = \"How agentic Ai could help in system management domain and what could be the business model for it?\"\n",
    "messages = [{\"role\": \"user\", \"content\": question}]\n",
    "# Ask it again\n",
    "response = model.generate_content(question)\n",
    "answer = response.text\n",
    "print(answer)\n",
    "from IPython.display import Markdown, display\n",
    "display(Markdown(answer))\n"
   ]
  },
  {
   "cell_type": "markdown",
   "metadata": {},
   "source": []
  },
  {
   "cell_type": "markdown",
   "metadata": {},
   "source": []
  }
 ],
 "metadata": {
  "kernelspec": {
   "display_name": "base",
   "language": "python",
   "name": "python3"
  },
  "language_info": {
   "codemirror_mode": {
    "name": "ipython",
    "version": 3
   },
   "file_extension": ".py",
   "mimetype": "text/x-python",
   "name": "python",
   "nbconvert_exporter": "python",
   "pygments_lexer": "ipython3",
   "version": "3.12.7"
  }
 },
 "nbformat": 4,
 "nbformat_minor": 2
}
